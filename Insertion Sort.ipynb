{
 "cells": [
  {
   "cell_type": "markdown",
   "id": "b89b05c4",
   "metadata": {},
   "source": [
    "# Insertion Sort"
   ]
  },
  {
   "cell_type": "code",
   "execution_count": 11,
   "id": "d455b606",
   "metadata": {},
   "outputs": [
    {
     "name": "stdout",
     "output_type": "stream",
     "text": [
      "The sorted array is [3, 2, 7, 5, 6]\n"
     ]
    }
   ],
   "source": [
    "def ins_sort(arr):\n",
    "    for i in range(1,len(arr)):\n",
    "        temp_val=arr[i]\n",
    "        temp_ind=i\n",
    "        for j in range(i,0,-1):\n",
    "            if (temp_val<arr[j]):\n",
    "                arr[j],arr[temp_ind]=arr[temp_ind],arr[j]\n",
    "                j+=j\n",
    "            else:\n",
    "                continue\n",
    "                \n",
    "    print(\"The sorted array is\",arr)\n",
    "                \n",
    "arr=[3,6,2,7,5]\n",
    "ins_sort(arr)\n",
    "                \n",
    "                "
   ]
  },
  {
   "cell_type": "code",
   "execution_count": null,
   "id": "89849c8f",
   "metadata": {},
   "outputs": [],
   "source": []
  },
  {
   "cell_type": "code",
   "execution_count": null,
   "id": "aa4f3153",
   "metadata": {},
   "outputs": [],
   "source": []
  }
 ],
 "metadata": {
  "kernelspec": {
   "display_name": "Python 3 (ipykernel)",
   "language": "python",
   "name": "python3"
  },
  "language_info": {
   "codemirror_mode": {
    "name": "ipython",
    "version": 3
   },
   "file_extension": ".py",
   "mimetype": "text/x-python",
   "name": "python",
   "nbconvert_exporter": "python",
   "pygments_lexer": "ipython3",
   "version": "3.11.7"
  }
 },
 "nbformat": 4,
 "nbformat_minor": 5
}
