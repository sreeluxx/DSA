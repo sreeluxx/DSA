{
 "cells": [
  {
   "cell_type": "markdown",
   "id": "cf9f846d",
   "metadata": {},
   "source": [
    "# Linear Search"
   ]
  },
  {
   "cell_type": "code",
   "execution_count": 1,
   "id": "6e117f4c",
   "metadata": {},
   "outputs": [
    {
     "name": "stdout",
     "output_type": "stream",
     "text": [
      "Element 30 found at index 2\n"
     ]
    }
   ],
   "source": [
    "def linear_search(arr, target):\n",
    " \n",
    "    for i in range(len(arr)):\n",
    "       \n",
    "        if arr[i] == target:\n",
    "            return i  \n",
    "    return -1 \n",
    "\n",
    "\n",
    "arr = [10, 25, 30, 45, 50]\n",
    "target = 30\n",
    "\n",
    "result = linear_search(arr, target)\n",
    "\n",
    "if result != -1:\n",
    "    print(f\"Element {target} found at index {result}\")\n",
    "else:\n",
    "    print(f\"Element {target} not found in the array\")\n",
    "\n",
    "\n"
   ]
  }
 ],
 "metadata": {
  "kernelspec": {
   "display_name": "Python 3 (ipykernel)",
   "language": "python",
   "name": "python3"
  },
  "language_info": {
   "codemirror_mode": {
    "name": "ipython",
    "version": 3
   },
   "file_extension": ".py",
   "mimetype": "text/x-python",
   "name": "python",
   "nbconvert_exporter": "python",
   "pygments_lexer": "ipython3",
   "version": "3.11.7"
  }
 },
 "nbformat": 4,
 "nbformat_minor": 5
}
