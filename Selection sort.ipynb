{
 "cells": [
  {
   "cell_type": "markdown",
   "id": "e3ca0863",
   "metadata": {},
   "source": [
    "# Selection Sort"
   ]
  },
  {
   "cell_type": "code",
   "execution_count": 1,
   "id": "23b9b775",
   "metadata": {},
   "outputs": [
    {
     "name": "stdout",
     "output_type": "stream",
     "text": [
      "The sorted array is: [3, 4, 5, 7, 8]\n"
     ]
    }
   ],
   "source": [
    "def min_value(arr):\n",
    "    for i in range(len(arr)):\n",
    "        min_val=arr[i]\n",
    "        min_ind=i\n",
    "        for j in range(i+1,len(arr)):\n",
    "            if(min_val>arr[j]):\n",
    "                min_val2=arr[j]\n",
    "                min_ind2=j\n",
    "                arr[min_ind],arr[min_ind2]=arr[min_ind2],arr[min_ind]\n",
    "            else:\n",
    "                continue\n",
    "                \n",
    "    print(\"The sorted array is:\",arr)\n",
    "                \n",
    "arr=[3,5,4,7,8]\n",
    "min_value(arr)\n",
    "                \n",
    "          "
   ]
  },
  {
   "cell_type": "code",
   "execution_count": null,
   "id": "ac64d9d2",
   "metadata": {},
   "outputs": [],
   "source": []
  }
 ],
 "metadata": {
  "kernelspec": {
   "display_name": "Python 3 (ipykernel)",
   "language": "python",
   "name": "python3"
  },
  "language_info": {
   "codemirror_mode": {
    "name": "ipython",
    "version": 3
   },
   "file_extension": ".py",
   "mimetype": "text/x-python",
   "name": "python",
   "nbconvert_exporter": "python",
   "pygments_lexer": "ipython3",
   "version": "3.11.7"
  }
 },
 "nbformat": 4,
 "nbformat_minor": 5
}
